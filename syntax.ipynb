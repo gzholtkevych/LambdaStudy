{
  "nbformat": 4,
  "nbformat_minor": 0,
  "metadata": {
    "colab": {
      "provenance": [],
      "authorship_tag": "ABX9TyMkR/oVSNPEsPSNZ9BHGY4M",
      "include_colab_link": true
    },
    "kernelspec": {
      "name": "python3",
      "display_name": "Python 3"
    },
    "language_info": {
      "name": "python"
    }
  },
  "cells": [
    {
      "cell_type": "markdown",
      "metadata": {
        "id": "view-in-github",
        "colab_type": "text"
      },
      "source": [
        "<a href=\"https://colab.research.google.com/github/gzholtkevych/LambdaStudy/blob/main/syntax.ipynb\" target=\"_parent\"><img src=\"https://colab.research.google.com/assets/colab-badge.svg\" alt=\"Open In Colab\"/></a>"
      ]
    },
    {
      "cell_type": "markdown",
      "source": [
        "<H1><b>Syntax of Lambda Calculus</b></H1>"
      ],
      "metadata": {
        "id": "JogJH0u5LgSp"
      }
    },
    {
      "cell_type": "markdown",
      "source": [
        "# Import of the needed external program facilities"
      ],
      "metadata": {
        "id": "-rrkm3RuLx_H"
      }
    },
    {
      "cell_type": "code",
      "execution_count": 1,
      "metadata": {
        "id": "r9L7G4M4LXsC"
      },
      "outputs": [],
      "source": [
        "from typing import Dict, Optional, Iterable, Tuple, List\n",
        "from typing_extensions import Self"
      ]
    },
    {
      "cell_type": "markdown",
      "source": [
        "# Variables"
      ],
      "metadata": {
        "id": "Gjn0OYoyM3Y1"
      }
    },
    {
      "cell_type": "markdown",
      "source": [
        "## Understanding"
      ],
      "metadata": {
        "id": "BQ2WJ9rcZSm0"
      }
    },
    {
      "cell_type": "markdown",
      "source": [
        "A variable is an atomic entity of a lambda calculus that refers to itself.<br/>\n",
        "In other words,\n",
        "\n",
        ">the value of a variable is its name.\n",
        "\n",
        "We understand **atomicity** as\n",
        "\n",
        ">the property of a one-to-one correspondence between variables and memory blocks allocated for them."
      ],
      "metadata": {
        "id": "tWfCtUIMM7An"
      }
    },
    {
      "cell_type": "markdown",
      "source": [
        "## Implementing"
      ],
      "metadata": {
        "id": "sNiQWjBhZW4r"
      }
    },
    {
      "cell_type": "markdown",
      "source": [
        "The notion is of a var implemented by the class `var`.\n",
        "\n",
        "*Static fields*\n",
        "\n",
        "```\n",
        "__declared       is the dictionary of all declared variables; the key of a variable in this dictionary is the variable name\n",
        "__check_varname  is a function that takes a string representing a variable name and throws an exception if the string does not match the\n",
        "                 variable name format namely, an identifier starting with a lowercase letter\n",
        "```\n",
        "\n",
        "*Class methods*\n",
        "\n",
        "```\n",
        "get           returns either the variable by its name if that variable is already declared or returns `None` if it is not declared\n",
        "all_declared  returns the list of all declared variables\n",
        "```"
      ],
      "metadata": {
        "id": "GzRjNycEZrfh"
      }
    },
    {
      "cell_type": "code",
      "source": [
        "class var(str):\n",
        "\n",
        "    __declared: Dict[str, Self] = {}  # the dictionary of declared variables\n",
        "                                     # with the variable name as its key\n",
        "\n",
        "    def __check_varname(varname: str) -> None:\n",
        "        if not isinstance(varname, str):\n",
        "            raise TypeError(\n",
        "                \"Invalid variable name type. Type 'str' is expected.\")\n",
        "        if not (varname.isidentifier() and varname[0].islower()):\n",
        "            raise ValueError(\n",
        "                \"Invalid variable name value. An identifier that starts with \"\n",
        "                \"a lowercase letter, is expected.\")\n",
        "\n",
        "    def __new__(cls, varname: str) -> Self:\n",
        "        var.__check_varname(varname)\n",
        "        if varname not in cls.__declared:  # 'varname' is a new name\n",
        "            cls.__declared[varname] = str.__new__(cls, varname)\n",
        "        return cls.__declared[varname]\n",
        "\n",
        "    def __eq__(self, another: Self) -> bool:\n",
        "        if not isinstance(another, var):\n",
        "            return False\n",
        "        return super().__eq__(another)\n",
        "\n",
        "    @classmethod\n",
        "    def get(cls, varname: str) -> Optional[Self]:\n",
        "        cls.__check_varname(varname)\n",
        "        try:\n",
        "            return cls.__declared[varname]\n",
        "        except KeyError:\n",
        "            return None\n",
        "\n",
        "    @classmethod\n",
        "    def all_declared(cls) -> List[Self]:\n",
        "        return [cls.__declared[key] for key in cls.__declared]"
      ],
      "metadata": {
        "id": "R4KqoNKIPZ_Y"
      },
      "execution_count": 27,
      "outputs": []
    }
  ]
}