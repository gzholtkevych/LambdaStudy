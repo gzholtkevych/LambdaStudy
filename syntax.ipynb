{
  "nbformat": 4,
  "nbformat_minor": 0,
  "metadata": {
    "colab": {
      "provenance": [],
      "collapsed_sections": [
        "-rrkm3RuLx_H"
      ],
      "authorship_tag": "ABX9TyN6U2UmqtsSTess7Gh4ODUH",
      "include_colab_link": true
    },
    "kernelspec": {
      "name": "python3",
      "display_name": "Python 3"
    },
    "language_info": {
      "name": "python"
    }
  },
  "cells": [
    {
      "cell_type": "markdown",
      "metadata": {
        "id": "view-in-github",
        "colab_type": "text"
      },
      "source": [
        "<a href=\"https://colab.research.google.com/github/gzholtkevych/LambdaStudy/blob/main/syntax.ipynb\" target=\"_parent\"><img src=\"https://colab.research.google.com/assets/colab-badge.svg\" alt=\"Open In Colab\"/></a>"
      ]
    },
    {
      "cell_type": "markdown",
      "source": [
        "<H1><b>Syntax of Lambda Calculus</b></H1>"
      ],
      "metadata": {
        "id": "JogJH0u5LgSp"
      }
    },
    {
      "cell_type": "markdown",
      "source": [
        "# Import of the needed external program facilities"
      ],
      "metadata": {
        "id": "-rrkm3RuLx_H"
      }
    },
    {
      "cell_type": "code",
      "execution_count": 1,
      "metadata": {
        "id": "r9L7G4M4LXsC"
      },
      "outputs": [],
      "source": [
        "from typing import Dict, Optional, Tuple, Union, List\n",
        "from typing_extensions import Self"
      ]
    },
    {
      "cell_type": "markdown",
      "source": [
        "# Variables"
      ],
      "metadata": {
        "id": "Gjn0OYoyM3Y1"
      }
    },
    {
      "cell_type": "markdown",
      "source": [
        "## Understanding"
      ],
      "metadata": {
        "id": "BQ2WJ9rcZSm0"
      }
    },
    {
      "cell_type": "markdown",
      "source": [
        "A variable is an atomic entity of a lambda calculus that refers to itself.<br/>\n",
        "In other words,\n",
        "\n",
        ">the value of a variable is its name.\n",
        "\n",
        "We understand **atomicity** as\n",
        "\n",
        ">the property of a one-to-one correspondence between variables and memory blocks allocated for them."
      ],
      "metadata": {
        "id": "tWfCtUIMM7An"
      }
    },
    {
      "cell_type": "markdown",
      "source": [
        "## Implementing"
      ],
      "metadata": {
        "id": "sNiQWjBhZW4r"
      }
    },
    {
      "cell_type": "markdown",
      "source": [
        "The notion is of a var implemented by the class `var`.\n",
        "\n",
        "*Static fields*\n",
        "\n",
        "```\n",
        "__declared       is the dictionary of all declared variables;\n",
        "                 the key of a variable in this dictionary is the variable name\n",
        "__check_varname  is a function that takes a string representing a variable name and\n",
        "                 throws an exception if the string does not match the variable\n",
        "                 name format namely, an identifier starting with a lowercase letter\n",
        "```\n",
        "\n",
        "*Class methods*\n",
        "\n",
        "```\n",
        "get           returns either the variable by its name if that variable is already declared or\n",
        "              returns `None` if it is not declared\n",
        "all_declared  returns the list of all declared variables\n",
        "```"
      ],
      "metadata": {
        "id": "GzRjNycEZrfh"
      }
    },
    {
      "cell_type": "code",
      "source": [
        "class var(str):\n",
        "\n",
        "    __declared: Dict[str, Self] = {}  # the dictionary of declared variables\n",
        "                                     # with the variable name as its key\n",
        "\n",
        "    def __check_varname(varname: str) -> None:\n",
        "        if not isinstance(varname, str):\n",
        "            raise TypeError(\n",
        "                \"Invalid variable name type. Type 'str' is expected.\")\n",
        "        if not (varname.isidentifier() and varname[0].islower()):\n",
        "            raise ValueError(\n",
        "                \"Invalid variable name value. An identifier that starts with \"\n",
        "                \"a lowercase letter, is expected.\")\n",
        "\n",
        "    def __new__(cls, varname: str) -> Self:\n",
        "        var.__check_varname(varname)\n",
        "        if varname not in cls.__declared:  # 'varname' is a new name\n",
        "            cls.__declared[varname] = str.__new__(cls, varname)\n",
        "        return cls.__declared[varname]\n",
        "\n",
        "    def __eq__(self, another: Self) -> bool:\n",
        "        if not isinstance(another, var):\n",
        "            return False\n",
        "        return super().__eq__(another)\n",
        "\n",
        "    @classmethod\n",
        "    def get(cls, varname: str) -> Optional[Self]:\n",
        "        cls.__check_varname(varname)\n",
        "        try:\n",
        "            return cls.__declared[varname]\n",
        "        except KeyError:\n",
        "            return None\n",
        "\n",
        "    @classmethod\n",
        "    def all_declared(cls) -> List[Self]:\n",
        "        return [cls.__declared[key] for key in cls.__declared]"
      ],
      "metadata": {
        "id": "R4KqoNKIPZ_Y"
      },
      "execution_count": 2,
      "outputs": []
    },
    {
      "cell_type": "markdown",
      "source": [
        "# Lambda Terms"
      ],
      "metadata": {
        "id": "Fl-7Aj4IhBO_"
      }
    },
    {
      "cell_type": "markdown",
      "source": [
        "## Understanding"
      ],
      "metadata": {
        "id": "fOaMEqHThLVP"
      }
    },
    {
      "cell_type": "markdown",
      "source": [
        "Lambda terms are built from variables using three constructors\n",
        "\n",
        "- `atom`, which coerces a variable to the corresponding atomic term;\n",
        "- `application`, which applies one term to another;\n",
        "- `abstraction`, which declares one variable of the term as a function argument.\n",
        "\n",
        "The following notation is usually used.\n",
        "\n",
        "- **atom:** $\\dfrac{x\\text{ is a variable}}{x\\text{ is a term}}$;\n",
        "- **application:** $\\dfrac{M\\text{ is a term}\\quad N\\text{ is a term}}{(MN)\\text{ is a term}}$;\n",
        "- **abstraction:** $\\dfrac{x\\text{ is a variable}\\quad M\\text{ is a term}}{(\\lambda\\,x\\mathop{.}M)\\text{ is a term}}$.\n",
        "\n",
        "The symbols '$\\lambda$', '(', ')', and '.' are punctuation marks Lambda Calculus and they do not belong to the set of variables."
      ],
      "metadata": {
        "id": "TozmmxhwhkdT"
      }
    },
    {
      "cell_type": "markdown",
      "source": [
        "## Implementing"
      ],
      "metadata": {
        "id": "g3VsMJB3hXTa"
      }
    },
    {
      "cell_type": "code",
      "source": [
        "class Term(tuple):\n",
        "\n",
        "    def __new__(cls, *args: Tuple) -> Self:\n",
        "        if not args:\n",
        "            raise ValueError(\"missing constructor argument(s)\")\n",
        "        if args[0] == 0:  # the case of an atom\n",
        "            if len(args) != 2:\n",
        "                raise ValueError(\"incorrect constructor argument number\")\n",
        "            if not isinstance(args[1], var):\n",
        "                raise TypeError(\"incorrect constructor argument type\")\n",
        "        elif args[0] == 1:  # the case of an application\n",
        "            if len(args) != 3:\n",
        "                raise ValueError(\"incorrect constructor argument number\")\n",
        "            if not all(isinstance(arg, Term) for arg in args[1 :]):\n",
        "                raise TypeError(\"incorrect constructor argument(s) type\")\n",
        "        elif args[0] == 2:  # the case of an abstraction\n",
        "            if len(args) != 3:\n",
        "                raise ValueError(\"incorrect constructor argument number\")\n",
        "            if not (isinstance(args[1], var) and isinstance(args[2], Term)):\n",
        "                raise TypeError(\"incorrect constructor argument(s) type\")\n",
        "        else:\n",
        "            raise ValueError(\"unrecognized term constructor\")\n",
        "        return super().__new__(cls, args)\n",
        "\n",
        "    @classmethod\n",
        "    def atm(cls, x: Union[str, var]) -> Self:\n",
        "        if isinstance(x, var):\n",
        "            return cls(0, x)\n",
        "        if isinstance(x, str):\n",
        "            return cls(0, var(x))\n",
        "        raise TypeError(\"invalid argument type\")\n",
        "\n",
        "    @classmethod\n",
        "    def app(cls, t1: Self, t2: Self) -> Self:\n",
        "        return cls(1, t1, t2)\n",
        "\n",
        "    @classmethod\n",
        "    def abs(cls, x: Union[str, var], t: Self) -> Self:\n",
        "        if isinstance(x, var):\n",
        "            return cls(2, x, t)\n",
        "        if isinstance(x, str):\n",
        "            return cls(2, var(x), t)\n",
        "\n",
        "    def __str__(self):\n",
        "        if self[0] == 0:\n",
        "            return self[1]\n",
        "        if self[0] == 1:\n",
        "            return f\"({self[1]} {self[2]})\"\n",
        "        # self[0] == 2\n",
        "        return f\"(λ {self[1]}.{self[2]})\""
      ],
      "metadata": {
        "id": "BHfcNuerhL2X"
      },
      "execution_count": 39,
      "outputs": []
    }
  ]
}